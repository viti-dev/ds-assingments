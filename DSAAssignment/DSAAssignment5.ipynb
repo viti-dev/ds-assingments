{
 "cells": [
  {
   "cell_type": "markdown",
   "id": "1e598169-8166-4279-a3fc-08094bc5fec1",
   "metadata": {},
   "source": [
    "<aside>\n",
    "💡 **Question 1**\n",
    "\n",
    "Convert 1D Array Into 2D Array\n",
    "\n",
    "You are given a **0-indexed** 1-dimensional (1D) integer array original, and two integers, m and n. You are tasked with creating a 2-dimensional (2D) array with  m rows and n columns using **all** the elements from original.\n",
    "\n",
    "The elements from indices 0 to n - 1 (**inclusive**) of original should form the first row of the constructed 2D array, the elements from indices n to 2 * n - 1 (**inclusive**) should form the second row of the constructed 2D array, and so on.\n",
    "\n",
    "Return *an* m x n *2D array constructed according to the above procedure, or an empty 2D array if it is impossible*.\n",
    "\n",
    "</aside>"
   ]
  },
  {
   "cell_type": "code",
   "execution_count": 16,
   "id": "3dd16898-8e73-42d5-8c94-7621883726f0",
   "metadata": {},
   "outputs": [],
   "source": [
    "import queue\n",
    "def twoD(nums,m,n):\n",
    "    res=[[0 for _ in range (m)] for _ in range (n)]\n",
    "    q=queue.Queue()\n",
    "    if(m*n != len(nums)):\n",
    "        return res\n",
    "    else:\n",
    "        for k in nums:\n",
    "            q.put(k)\n",
    "            \n",
    "            \n",
    "        for i in range (0,m):\n",
    "            \n",
    "            for j in range(0,n):\n",
    "                \n",
    "                res[i][j]=q.get()\n",
    "                \n",
    "                \n",
    "                \n",
    "    return res\n",
    "                \n",
    "            \n",
    "        \n",
    "                "
   ]
  },
  {
   "cell_type": "code",
   "execution_count": 18,
   "id": "44b513d4-ee2b-4198-bb26-68b2b592d165",
   "metadata": {},
   "outputs": [
    {
     "data": {
      "text/plain": [
       "[[0, 0], [0, 0], [0, 0]]"
      ]
     },
     "execution_count": 18,
     "metadata": {},
     "output_type": "execute_result"
    }
   ],
   "source": [
    "twoD( [1,2,3,4], 2, 3)"
   ]
  },
  {
   "cell_type": "markdown",
   "id": "79e087c4-5e4c-4277-a75a-35d1ab014f0c",
   "metadata": {},
   "source": [
    "<aside>\n",
    "💡 **Question 2**\n",
    "\n",
    "You have n coins and you want to build a staircase with these coins. The staircase consists of k rows where the ith row has exactly i coins. The last row of the staircase **may be** incomplete.\n",
    "\n",
    "Given the integer n, return *the number of **complete rows** of the staircase you will build*.\n",
    "\n",
    "</aside>"
   ]
  },
  {
   "cell_type": "code",
   "execution_count": 20,
   "id": "0bf6c60a-58b0-4cf0-966e-2add25c9e50f",
   "metadata": {},
   "outputs": [],
   "source": [
    "def stairs(n):\n",
    "    remaining_coins=n\n",
    "    count=0\n",
    "    \n",
    "    while remaining_coins>=count+1:\n",
    "        count+=1\n",
    "        remaining_coins-=count\n",
    "    return count"
   ]
  },
  {
   "cell_type": "code",
   "execution_count": 23,
   "id": "63959349-bcb3-45c3-95d4-c6d9fc90cee9",
   "metadata": {},
   "outputs": [
    {
     "data": {
      "text/plain": [
       "3"
      ]
     },
     "execution_count": 23,
     "metadata": {},
     "output_type": "execute_result"
    }
   ],
   "source": [
    "stairs(7)"
   ]
  },
  {
   "cell_type": "markdown",
   "id": "4588a308-9830-4497-bda0-a4cf10c1c527",
   "metadata": {},
   "source": [
    "<aside>\n",
    "💡 **Question 3**\n",
    "\n",
    "Given an integer array nums sorted in **non-decreasing** order, return *an array of **the squares of each number** sorted in non-decreasing order*.\n",
    "\n",
    "**Example 1:**\n",
    "\n",
    "**Input:** nums = [-4,-1,0,3,10]\n",
    "\n",
    "**Output:** [0,1,9,16,100]\n",
    "\n",
    "**Explanation:** After squaring, the array becomes [16,1,0,9,100].\n",
    "\n",
    "After sorting, it becomes [0,1,9,16,100].\n",
    "\n",
    "</aside>"
   ]
  },
  {
   "cell_type": "code",
   "execution_count": 14,
   "id": "ca740a64-162a-417e-a18c-beccde5de718",
   "metadata": {},
   "outputs": [],
   "source": [
    "def square(nums):\n",
    "    n=len(nums)-1\n",
    "    i=0\n",
    "    res=[0 for _ in range (n+1)]\n",
    "    \n",
    "    k=n\n",
    "    while i<n:\n",
    "        if abs(nums[i]) > abs(nums[n]):\n",
    "            res[k]=nums[i]*nums[i]\n",
    "            i+=1\n",
    "            k-=1\n",
    "        else:\n",
    "            res[k]=nums[n]*nums[n]\n",
    "            n-=1\n",
    "            k-=1\n",
    "    return res"
   ]
  },
  {
   "cell_type": "code",
   "execution_count": 15,
   "id": "cf010a97-2929-412b-bb89-0ab628826ba4",
   "metadata": {},
   "outputs": [],
   "source": [
    "nums = [-4,-1,0,3,10]"
   ]
  },
  {
   "cell_type": "code",
   "execution_count": 16,
   "id": "71c76ae2-b6fe-4910-8b2d-4266c53e039f",
   "metadata": {},
   "outputs": [
    {
     "data": {
      "text/plain": [
       "[0, 1, 9, 16, 100]"
      ]
     },
     "execution_count": 16,
     "metadata": {},
     "output_type": "execute_result"
    }
   ],
   "source": [
    "square(nums)"
   ]
  },
  {
   "cell_type": "markdown",
   "id": "e3873834-8ab5-4dba-aa61-7990da21c00d",
   "metadata": {},
   "source": [
    "<aside>\n",
    "💡 **Question 4**\n",
    "\n",
    "Given two **0-indexed** integer arrays nums1 and nums2, return *a list* answer *of size* 2 *where:*\n",
    "\n",
    "- answer[0] *is a list of all **distinct** integers in* nums1 *which are **not** present in* nums2*.*\n",
    "- answer[1] *is a list of all **distinct** integers in* nums2 *which are **not** present in* nums1.\n",
    "\n",
    "**Note** that the integers in the lists may be returned in **any** order.\n",
    "\n",
    "**Example 1:**\n",
    "\n",
    "**Input:** nums1 = [1,2,3], nums2 = [2,4,6]\n",
    "\n",
    "**Output:** [[1,3],[4,6]]\n",
    "\n",
    "**Explanation:**\n",
    "\n",
    "For nums1, nums1[1] = 2 is present at index 0 of nums2, whereas nums1[0] = 1 and nums1[2] = 3 are not present in nums2. Therefore, answer[0] = [1,3].\n",
    "\n",
    "For nums2, nums2[0] = 2 is present at index 1 of nums1, whereas nums2[1] = 4 and nums2[2] = 6 are not present in nums2. Therefore, answer[1] = [4,6].\n",
    "\n",
    "</aside>"
   ]
  },
  {
   "cell_type": "code",
   "execution_count": 19,
   "id": "dbdcb9c6-e494-4262-a61a-72adc7f7595c",
   "metadata": {},
   "outputs": [],
   "source": [
    "def unique(nums1,nums2):\n",
    "    \n",
    "    res=[]\n",
    "    \n",
    "    for i in nums1:\n",
    "        if i in nums2:\n",
    "            nums1.remove(i)\n",
    "            nums2.remove(i)\n",
    "    res.append([nums1])\n",
    "    res.append([nums2])\n",
    "    return res\n",
    "    \n",
    "        \n",
    "    "
   ]
  },
  {
   "cell_type": "code",
   "execution_count": 20,
   "id": "1b1fcb2d-809e-4223-9d17-5284a10e4f82",
   "metadata": {},
   "outputs": [
    {
     "data": {
      "text/plain": [
       "[[[1, 3]], [[4, 6]]]"
      ]
     },
     "execution_count": 20,
     "metadata": {},
     "output_type": "execute_result"
    }
   ],
   "source": [
    "unique([1,2,3],[2,4,6])"
   ]
  },
  {
   "cell_type": "markdown",
   "id": "1fb037da-6880-44bd-84ec-a21f627b02c4",
   "metadata": {},
   "source": [
    "<aside>\n",
    "💡 **Question 5**\n",
    "\n",
    "Given two integer arrays arr1 and arr2, and the integer d, *return the distance value between the two arrays*.\n",
    "\n",
    "The distance value is defined as the number of elements arr1[i] such that there is not any element arr2[j] where |arr1[i]-arr2[j]| <= d.\n",
    "\n",
    "</aside>"
   ]
  },
  {
   "cell_type": "code",
   "execution_count": 31,
   "id": "8b70e3fc-3d50-4cc4-8522-1d9d3aa6ad55",
   "metadata": {},
   "outputs": [],
   "source": [
    "def distance(nums1,nums2,d):\n",
    "    count=0\n",
    "    for i in range (len(nums1)):\n",
    "        \n",
    "        \n",
    "        for j in range (len(nums2)):\n",
    "            \n",
    "            if abs(nums1[i] -nums2[j] ) <= d:\n",
    "                break\n",
    "            elif j==len(nums2)-1:\n",
    "                count+=1\n",
    "    return count\n",
    "                \n",
    "            "
   ]
  },
  {
   "cell_type": "code",
   "execution_count": 32,
   "id": "3f7c1d31-da11-498c-8739-d4a7a18a9a83",
   "metadata": {},
   "outputs": [
    {
     "data": {
      "text/plain": [
       "2"
      ]
     },
     "execution_count": 32,
     "metadata": {},
     "output_type": "execute_result"
    }
   ],
   "source": [
    "distance([4,5,8],[10,9,1,8],2)"
   ]
  },
  {
   "cell_type": "markdown",
   "id": "c0f25847-bd6f-4350-a443-1a2ab15359d6",
   "metadata": {},
   "source": [
    "<aside>\n",
    "💡 **Question 6**\n",
    "\n",
    "Given an integer array nums of length n where all the integers of nums are in the range [1, n] and each integer appears **once** or **twice**, return *an array of all the integers that appears **twice***.\n",
    "\n",
    "You must write an algorithm that runs in O(n) time and uses only constant extra space.\n",
    "\n",
    "**Example 1:**\n",
    "\n",
    "**Input:** nums = [4,3,2,7,8,2,3,1]\n",
    "\n",
    "**Output:**\n",
    "\n",
    "[2,3]\n",
    "\n",
    "</aside>"
   ]
  },
  {
   "cell_type": "code",
   "execution_count": 35,
   "id": "9201037d-660f-4556-a5fd-acb141dd1e3f",
   "metadata": {},
   "outputs": [],
   "source": [
    "def twice(nums):\n",
    "    \n",
    "    nums.sort()\n",
    "    i=1\n",
    "    res=[]\n",
    "    while i < len(nums):\n",
    "        if nums[i]==nums[i-1]:\n",
    "            res.append(nums[i])\n",
    "            i+=1\n",
    "        else:\n",
    "            i+=1\n",
    "    return res\n",
    "        "
   ]
  },
  {
   "cell_type": "code",
   "execution_count": 36,
   "id": "25d5b90e-1dd2-4cc9-b54c-4b67cbd17eae",
   "metadata": {},
   "outputs": [
    {
     "data": {
      "text/plain": [
       "[2, 3]"
      ]
     },
     "execution_count": 36,
     "metadata": {},
     "output_type": "execute_result"
    }
   ],
   "source": [
    "twice( [4,3,2,7,8,2,3,1])"
   ]
  },
  {
   "cell_type": "markdown",
   "id": "4cb22675-46a5-4f95-a5a7-4b612f91158c",
   "metadata": {},
   "source": [
    "<aside>\n",
    "💡 **Question 7**\n",
    "\n",
    "Suppose an array of length n sorted in ascending order is **rotated** between 1 and n times. For example, the array nums = [0,1,2,4,5,6,7] might become:\n",
    "\n",
    "- [4,5,6,7,0,1,2] if it was rotated 4 times.\n",
    "- [0,1,2,4,5,6,7] if it was rotated 7 times.\n",
    "\n",
    "Notice that **rotating** an array [a[0], a[1], a[2], ..., a[n-1]] 1 time results in the array [a[n-1], a[0], a[1], a[2], ..., a[n-2]].\n",
    "\n",
    "Given the sorted rotated array nums of **unique** elements, return *the minimum element of this array*.\n",
    "\n",
    "You must write an algorithm that runs in O(log n) time.\n",
    "\n",
    "**Example 1:**\n",
    "\n",
    "**Input:** nums = [3,4,5,1,2]\n",
    "\n",
    "**Output:** 1\n",
    "\n",
    "**Explanation:**\n",
    "\n",
    "The original array was [1,2,3,4,5] rotated 3 times.\n",
    "\n",
    "</aside>"
   ]
  },
  {
   "cell_type": "code",
   "execution_count": 7,
   "id": "6f0f0a8b-85d2-4084-927c-fc56fb571a7b",
   "metadata": {},
   "outputs": [],
   "source": [
    "import heapq\n",
    "\n",
    "def smallest(nums):\n",
    "    return heapq.nsmallest(1,nums).pop()\n",
    "    \n",
    "    "
   ]
  },
  {
   "cell_type": "code",
   "execution_count": 8,
   "id": "80812f6c-118a-4e7e-b05c-d6a923fc5060",
   "metadata": {},
   "outputs": [
    {
     "data": {
      "text/plain": [
       "1"
      ]
     },
     "execution_count": 8,
     "metadata": {},
     "output_type": "execute_result"
    }
   ],
   "source": [
    "smallest( [3,4,5,1,2])"
   ]
  },
  {
   "cell_type": "markdown",
   "id": "6f4e9ee6-8c13-4c3d-92ed-388596b535af",
   "metadata": {},
   "source": [
    "💡 **Question 8**\n",
    "\n",
    "An integer array original is transformed into a **doubled** array changed by appending **twice the value** of every element in original, and then randomly **shuffling** the resulting array.\n",
    "\n",
    "Given an array changed, return original *if* changed *is a **doubled** array. If* changed *is not a **doubled** array, return an empty array. The elements in* original *may be returned in **any** order*.\n",
    "\n",
    "**Example 1:**\n",
    "\n",
    "**Input:** changed = [1,3,4,2,6,8]\n",
    "\n",
    "**Output:** [1,3,4]\n",
    "\n",
    "**Explanation:** One possible original array could be [1,3,4]:\n",
    "\n",
    "- Twice the value of 1 is 1 * 2 = 2.\n",
    "- Twice the value of 3 is 3 * 2 = 6.\n",
    "- Twice the value of 4 is 4 * 2 = 8.\n",
    "\n",
    "Other original arrays could be [4,3,1] or [3,1,4].\n"
   ]
  },
  {
   "cell_type": "code",
   "execution_count": null,
   "id": "370f3a5b-c3fa-4bc5-a13f-8f8f76c26f77",
   "metadata": {},
   "outputs": [],
   "source": [
    "def findOriginalArray(changed):\n",
    "    if len(changed) % 2 != 0:\n",
    "        return []\n",
    "    \n",
    "    original = []\n",
    "    counter = {}\n",
    "    \n",
    "    for num in changed:\n",
    "        if num in counter and counter[num] > 0:\n",
    "            counter[num] -= 1\n",
    "            original.append(num // 2)\n",
    "        else:\n",
    "            double_num = num * 2\n",
    "            if double_num not in counter:\n",
    "                counter[double_num] = 0\n",
    "            counter[double_num] += 1\n",
    "    \n",
    "    return original if set(original) <= set(changed) else []"
   ]
  }
 ],
 "metadata": {
  "kernelspec": {
   "display_name": "Python 3 (ipykernel)",
   "language": "python",
   "name": "python3"
  },
  "language_info": {
   "codemirror_mode": {
    "name": "ipython",
    "version": 3
   },
   "file_extension": ".py",
   "mimetype": "text/x-python",
   "name": "python",
   "nbconvert_exporter": "python",
   "pygments_lexer": "ipython3",
   "version": "3.10.6"
  }
 },
 "nbformat": 4,
 "nbformat_minor": 5
}
