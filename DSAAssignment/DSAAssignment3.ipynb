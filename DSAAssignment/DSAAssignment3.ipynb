{
 "cells": [
  {
   "cell_type": "markdown",
   "id": "7e25a893-b3fa-461b-8e57-c9ffe1b07fb8",
   "metadata": {},
   "source": [
    "Question 1\n",
    "Given an integer array nums of length n and an integer target, find three integers\n",
    "in nums such that the sum is closest to the target.\n",
    "Return the sum of the three integers.\n",
    "You may assume that each input would have exactly one solution.\n",
    "Example 1:\n",
    "Input: nums = [-1,2,1,-4], target = 1\n",
    "Output: 2\n",
    "Explanation: The sum that is closest to the target is 2. (-1 + 2 + 1 = 2)."
   ]
  },
  {
   "cell_type": "code",
   "execution_count": 5,
   "id": "b51a14c2-aa1b-4fba-a828-3192955a67c2",
   "metadata": {},
   "outputs": [],
   "source": [
    "def threeClosestSum(nums,target):\n",
    "    nums.sort()\n",
    "    n=len(nums)\n",
    "    closest_sum = float('inf')\n",
    "    \n",
    "    for i in range (0 , n-2):\n",
    "        l=i+1\n",
    "        r=n-1\n",
    "        \n",
    "        while l <r:\n",
    "            current_sum = nums[i]+nums[l]+nums[r]\n",
    "            \n",
    "            if current_sum==target:\n",
    "                return current_sum\n",
    "            \n",
    "            if abs(current_sum-target)< abs(closest_sum -target):\n",
    "                closest_sum = current_sum\n",
    "                \n",
    "            if current_sum < target:\n",
    "                l+=1\n",
    "            else:\n",
    "                r-=1\n",
    "    return closest_sum"
   ]
  },
  {
   "cell_type": "code",
   "execution_count": 6,
   "id": "6ce1ff63-8b0e-4347-9bc0-524a3f787758",
   "metadata": {},
   "outputs": [
    {
     "data": {
      "text/plain": [
       "2"
      ]
     },
     "execution_count": 6,
     "metadata": {},
     "output_type": "execute_result"
    }
   ],
   "source": [
    "threeClosestSum( [-1,2,1,-4],1)"
   ]
  },
  {
   "cell_type": "markdown",
   "id": "10f62d51-c38c-44a2-96f7-fb884b07f878",
   "metadata": {},
   "source": [
    "Question 2\n",
    "Given an array nums of n integers, return an array of all the unique quadruplets\n",
    "[nums[a], nums[b], nums[c], nums[d]] such that:\n",
    "● 0 <= a, b, c, d < n\n",
    "● a, b, c, and d are distinct.\n",
    "● nums[a] + nums[b] + nums[c] + nums[d] == target\n",
    "You may return the answer in any order.\n",
    "Example 1:\n",
    "Input: nums = [1,0,-1,0,-2,2], target = 0\n",
    "Output: [[-2,-1,1,2],[-2,0,0,2],[-1,0,0,1]]"
   ]
  },
  {
   "cell_type": "code",
   "execution_count": null,
   "id": "11eb099f-13eb-4e0e-bbc2-55b3528fd99c",
   "metadata": {},
   "outputs": [],
   "source": [
    "def quadruplets(nums,target):\n",
    "    nums.sort()\n",
    "    n=len(nums)-1\n",
    "    res=[]\n",
    "    \n",
    "    for i in range(0,n-2):\n",
    "        \n",
    "        #Skip duplicates for th first element\n",
    "        \n",
    "        if i>0 and nums[i] == nums[i-1]:\n",
    "            continue\n",
    "        \n",
    "        for j in range (i+1,n-1):\n",
    "            \n",
    "            if j>i+1 and nums[j] ==nums[j-1]:\n",
    "                continue\n",
    "                \n",
    "                \n",
    "            l=j+1\n",
    "            r=n\n",
    "                    \n",
    "            while l < r:\n",
    "                sum= nums[i]+nums[j]+nums[l]+nums[r]\n",
    "                        \n",
    "                if sum == target:\n",
    "                    res.append([nums[i],nums[j],nums[l],nums[r]])\n",
    "                    \n",
    "                    while l<r and nums[l]==nums[l+1]:\n",
    "                        l+=1\n",
    "                    \n",
    "                    while l<r and nums[r] == nums[r-1]:\n",
    "                        r-+1\n",
    "                    \n",
    "                    l+=1\n",
    "                    r-=1\n",
    "                if sum < target:\n",
    "                    l+=1\n",
    "                if sum>target:\n",
    "                    r-=1\n",
    "    \n",
    "    return res\n",
    "                        \n",
    "                        \n",
    "                            \n",
    "                                        \n",
    "        "
   ]
  },
  {
   "cell_type": "code",
   "execution_count": null,
   "id": "44d08c92-95f5-4911-acc5-045b4eedfac6",
   "metadata": {},
   "outputs": [],
   "source": [
    "quadruplets([1,0,-1,0,-2,2,1,1,1,1,-1,-1,-1,-1,-2,-2,2,0],0)"
   ]
  },
  {
   "cell_type": "markdown",
   "id": "043e58d2-b6d9-4d89-9841-c44a4e0e0e6b",
   "metadata": {},
   "source": [
    "Question 3\n",
    "A permutation of an array of integers is an arrangement of its members into a\n",
    "sequence or linear order.\n",
    "● For example, for arr = [1,2,3], the following are all the permutations of arr:\n",
    "[1,2,3], [1,3,2], [2, 1, 3], [2, 3, 1], [3,1,2], [3,2,1].\n",
    "The next permutation of an array of integers is the next lexicographically greater\n",
    "permutation of its integer. More formally, if all the permutations of the array are\n",
    "sorted in one container according to their lexicographical order, then the next\n",
    "permutation of that array is the permutation that follows it in the sorted container.\n",
    "If such an arrangement is not possible, the array must be rearranged as the\n",
    "lowest possible order (i.e., sorted in ascending order).\n",
    "● For example, the next permutation of arr = [1,2,3] is [1,3,2].\n",
    "● Similarly, the next permutation of arr = [2,3,1] is [3,1,2].\n",
    "● While the next permutation of arr = [3,2,1] is [1,2,3] because [3,2,1] does not\n",
    "have a lexicographical larger rearrangement.\n",
    "Given an array of integers nums, find the next permutation of nums.\n",
    "The replacement must be in place and use only constant extra memory.\n",
    "Example 1:\n",
    "Input: nums = [1,2,3]\n",
    "Output: [1,3,2]"
   ]
  },
  {
   "cell_type": "code",
   "execution_count": 3,
   "id": "e4bf2b39-c2dd-4054-aac7-55ca15a66607",
   "metadata": {},
   "outputs": [],
   "source": [
    "def perm(nums):\n",
    "    i=len(nums)-1\n",
    "    while i>0:\n",
    "        if nums[i]>nums[i-1]:\n",
    "            nums[i],nums[i-1]=nums[i-1],nums[i]\n",
    "            break\n",
    "        else:\n",
    "            i-=1\n",
    "   \n",
    "    \n",
    "    return nums[:i] + nums[len(nums)-1:i-1:-1]\n",
    "   "
   ]
  },
  {
   "cell_type": "code",
   "execution_count": 4,
   "id": "93267e22-32f8-4cc8-8f3d-de61d90e6420",
   "metadata": {},
   "outputs": [
    {
     "data": {
      "text/plain": [
       "[1, 3, 2]"
      ]
     },
     "execution_count": 4,
     "metadata": {},
     "output_type": "execute_result"
    }
   ],
   "source": [
    "perm([1,2,3])"
   ]
  },
  {
   "cell_type": "markdown",
   "id": "a432f091-8489-4192-982c-a3503e23d368",
   "metadata": {},
   "source": [
    "Question 4\n",
    "Given a sorted array of distinct integers and a target value, return the index if the\n",
    "target is found. If not, return the index where it would be if it were inserted in\n",
    "order.\n",
    "You must write an algorithm with O(log n) runtime complexity.\n",
    "Example 1:\n",
    "Input: nums = [1,3,5,6], target = 5\n",
    "Output: 2"
   ]
  },
  {
   "cell_type": "code",
   "execution_count": 13,
   "id": "40c1f986-489b-4c6a-97b8-9c50a7cb720f",
   "metadata": {},
   "outputs": [],
   "source": [
    "def Search(nums,target):\n",
    "    l=0\n",
    "    r=len(nums)-1\n",
    "    \n",
    "    while l<r:\n",
    "        m=l+r//2\n",
    "        if nums[m]==target:\n",
    "            return m\n",
    "        if nums[m] < target:\n",
    "            l=m+1\n",
    "        else:\n",
    "            r=m-1\n",
    "    else:\n",
    "        return l"
   ]
  },
  {
   "cell_type": "code",
   "execution_count": 12,
   "id": "1bfea952-9cb0-4f5b-a476-7aad94aac6d7",
   "metadata": {},
   "outputs": [
    {
     "data": {
      "text/plain": [
       "3"
      ]
     },
     "execution_count": 12,
     "metadata": {},
     "output_type": "execute_result"
    }
   ],
   "source": [
    "Search([1,3,5,6],4)"
   ]
  },
  {
   "cell_type": "markdown",
   "id": "39943ce6-9373-479e-989a-f11e2f1d4192",
   "metadata": {},
   "source": [
    "Question 5\n",
    "You are given a large integer represented as an integer array digits, where each\n",
    "digits[i] is the ith digit of the integer. The digits are ordered from most significant\n",
    "to least significant in left-to-right order. The large integer does not contain any\n",
    "leading 0's.\n",
    "Increment the large integer by one and return the resulting array of digits.\n",
    "Example 1:\n",
    "Input: digits = [1,2,3]\n",
    "Output: [1,2,4]\n",
    "Explanation: The array represents the integer 123.\n",
    "Incrementing by one gives 123 + 1 = 124.\n",
    "Thus, the result should be [1,2,4]."
   ]
  },
  {
   "cell_type": "code",
   "execution_count": 33,
   "id": "dd76927b-1119-462d-9d7f-d5ab81b8e204",
   "metadata": {},
   "outputs": [],
   "source": [
    "def AddOne(nums):\n",
    "    n=len(nums)-1\n",
    "    \n",
    "    for i in range(n,-1,-1):\n",
    "        if nums[i]<9:\n",
    "            nums[i]+=1\n",
    "            return nums\n",
    "        elif nums[i]==9:\n",
    "            nums[i]=0\n",
    "            \n",
    "    return [1]+nums\n",
    "            "
   ]
  },
  {
   "cell_type": "code",
   "execution_count": 36,
   "id": "d79dd461-46d9-4889-890b-f7fb78391cea",
   "metadata": {},
   "outputs": [
    {
     "data": {
      "text/plain": [
       "[1, 3, 0]"
      ]
     },
     "execution_count": 36,
     "metadata": {},
     "output_type": "execute_result"
    }
   ],
   "source": [
    "AddOne([1,2,9])"
   ]
  },
  {
   "cell_type": "markdown",
   "id": "d12efe13-3ea6-4dc1-804e-6aedafbdd4d3",
   "metadata": {},
   "source": [
    "Question 6\n",
    "Given a non-empty array of integers nums, every element appears twice except\n",
    "for one. Find that single one.\n",
    "You must implement a solution with a linear runtime complexity and use only\n",
    "constant extra space.\n",
    "Example 1:\n",
    "Input: nums = [2,2,1]\n",
    "Output: 1"
   ]
  },
  {
   "cell_type": "code",
   "execution_count": 47,
   "id": "b4663bab-4747-4cb3-aa9b-f85a5f088e01",
   "metadata": {},
   "outputs": [],
   "source": [
    "def Unique(nums):\n",
    "    res=0\n",
    "    \n",
    "    for i in nums:\n",
    "        res ^= i\n",
    "    return res\n",
    "            "
   ]
  },
  {
   "cell_type": "code",
   "execution_count": 48,
   "id": "667b8022-cb8b-4546-ab03-835c99d5aec2",
   "metadata": {},
   "outputs": [
    {
     "data": {
      "text/plain": [
       "1"
      ]
     },
     "execution_count": 48,
     "metadata": {},
     "output_type": "execute_result"
    }
   ],
   "source": [
    "Unique([2,2,1])"
   ]
  },
  {
   "cell_type": "markdown",
   "id": "e12c58d6-7b19-44a1-95ab-91e593133c10",
   "metadata": {},
   "source": [
    "Question 7\n",
    "You are given an inclusive range [lower, upper] and a sorted unique integer array\n",
    "nums, where all elements are within the inclusive range.\n",
    "A number x is considered missing if x is in the range [lower, upper] and x is not in\n",
    "nums.\n",
    "Return the shortest sorted list of ranges that exactly covers all the missing\n",
    "numbers. That is, no element of nums is included in any of the ranges, and each\n",
    "missing number is covered by one of the ranges.\n",
    "Example 1:\n",
    "Input: nums = [0,1,3,50,75], lower = 0, upper = 99\n",
    "Output: [[2,2],[4,49],[51,74],[76,99]]\n",
    "Explanation: The ranges are:\n",
    "[2,2]\n",
    "[4,49]\n",
    "[51,74]\n",
    "[76,99]"
   ]
  },
  {
   "cell_type": "code",
   "execution_count": 56,
   "id": "113a3ed7-1536-4da9-8b5d-6e31544e46df",
   "metadata": {},
   "outputs": [],
   "source": [
    "def missingRange(nums,lower,upper):\n",
    "    res=[]\n",
    "    for i in range (0,len(nums)):\n",
    "        if i==0 and nums[i]>lower :\n",
    "            res.append([lower,nums[i]-1])\n",
    "        if i<len(nums)-1 and nums[i+1]!=nums[i]+1:\n",
    "            res.append([nums[i]+1,nums[i+1]-1])\n",
    "        if i==len(nums)-1 and nums[i]< upper:\n",
    "            res.append([nums[i]+1,upper])\n",
    "    return res"
   ]
  },
  {
   "cell_type": "code",
   "execution_count": 57,
   "id": "50f8065c-43a7-49ea-93cb-d495624374f8",
   "metadata": {},
   "outputs": [
    {
     "data": {
      "text/plain": [
       "[[0, 0], [2, 2], [4, 49], [51, 98]]"
      ]
     },
     "execution_count": 57,
     "metadata": {},
     "output_type": "execute_result"
    }
   ],
   "source": [
    "missingRange([1,3,50,99],0,99)"
   ]
  },
  {
   "cell_type": "markdown",
   "id": "5c9db20c-2e63-4929-ae72-04b5ff61b55a",
   "metadata": {},
   "source": [
    "Question 8\n",
    "Given an array of meeting time intervals where intervals[i] = [starti, endi],\n",
    "determine if a person could attend all meetings.\n",
    "Example 1:\n",
    "Input: intervals = [[0,30],[5,10],[15,20]]\n",
    "Output: false"
   ]
  },
  {
   "cell_type": "code",
   "execution_count": 61,
   "id": "a38c0bce-c8cc-48d6-a2f2-e4bda46c1213",
   "metadata": {},
   "outputs": [],
   "source": [
    "def meetings(nums):\n",
    "    nums.sort(key=lambda x:x[0])\n",
    "    \n",
    "    for i in range (1,len(nums)):\n",
    "        if nums[i][0] < nums[i-1][1]:\n",
    "            return False\n",
    "    return True"
   ]
  },
  {
   "cell_type": "code",
   "execution_count": 62,
   "id": "75ccec25-5514-46a2-8a31-b7355cd54a73",
   "metadata": {},
   "outputs": [
    {
     "data": {
      "text/plain": [
       "True"
      ]
     },
     "execution_count": 62,
     "metadata": {},
     "output_type": "execute_result"
    }
   ],
   "source": [
    "meetings([[0,2],[5,10],[15,20]])"
   ]
  },
  {
   "cell_type": "code",
   "execution_count": null,
   "id": "3855449c-7b7a-4aff-bcca-7cb87f3364a5",
   "metadata": {},
   "outputs": [],
   "source": []
  }
 ],
 "metadata": {
  "kernelspec": {
   "display_name": "Python 3 (ipykernel)",
   "language": "python",
   "name": "python3"
  },
  "language_info": {
   "codemirror_mode": {
    "name": "ipython",
    "version": 3
   },
   "file_extension": ".py",
   "mimetype": "text/x-python",
   "name": "python",
   "nbconvert_exporter": "python",
   "pygments_lexer": "ipython3",
   "version": "3.10.6"
  }
 },
 "nbformat": 4,
 "nbformat_minor": 5
}
