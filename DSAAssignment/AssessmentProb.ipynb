{
 "cells": [
  {
   "cell_type": "markdown",
   "id": "a20c58d4-6d88-44e6-9c6a-6cdcadc8feb4",
   "metadata": {},
   "source": [
    "Move Zeroes\n",
    "Given an integer array nums, move all 0's to the end of it while maintaining the relative order of the non-zero elements.\n",
    "\n",
    "Note that you must do this in-place without making a copy of the array.\n",
    "\n",
    "Example 1:\n",
    "Input: nums = [0,1,0,3,12]\n",
    "Output: [1,3,12,0,0]\n",
    "\n",
    "Example 2:\n",
    "Input: nums = [0]\n",
    "Output: [0]\n",
    "\n",
    "Constraints:\n",
    "a. 1 <= nums.length <= 10^4\n",
    "b. -2^31 <= nums[i] <= 2^31 - 1"
   ]
  },
  {
   "cell_type": "code",
   "execution_count": 1,
   "id": "9b8152aa-0211-4da3-8103-62cfc45d7e5e",
   "metadata": {},
   "outputs": [],
   "source": [
    "def movezero(nums):\n",
    "    \n",
    "    for i in range(0,len(nums)-1):\n",
    "        for j in range ( i, len(nums)):\n",
    "            if nums[i] == 0 and nums[j]!=0:\n",
    "                temp=nums[i]\n",
    "                nums[i]=nums[j]\n",
    "                nums[j]=temp\n",
    "                continue\n",
    "            else:\n",
    "                continue\n",
    "    return nums\n",
    "         \n",
    "        \n",
    "        \n",
    "    "
   ]
  },
  {
   "cell_type": "code",
   "execution_count": 3,
   "id": "57763854-4854-43c1-96d4-1343b61be461",
   "metadata": {},
   "outputs": [
    {
     "data": {
      "text/plain": [
       "[1, 3, 0, 0, 0]"
      ]
     },
     "execution_count": 3,
     "metadata": {},
     "output_type": "execute_result"
    }
   ],
   "source": [
    "movezero([0,1,0,3,0])"
   ]
  },
  {
   "cell_type": "markdown",
   "id": "0c1be0e4-ee98-49f1-9945-b51bb146cd61",
   "metadata": {},
   "source": [
    "First Unique Character in a String\n",
    "\n",
    "Given a string s, find the first non-repeating character in it and return its index. If it does not exist, return -1.\n",
    "\n",
    "Example 1:\n",
    "Input: s = \"leetcode\"\n",
    "Output: 0\n",
    "\n",
    "Example 2:\n",
    "Input: s = \"loveleetcode\"\n",
    "Output: 2\n",
    "\n",
    "Example 3:\n",
    "Input: s = \"aabb\"\n",
    "Output: -1\n",
    "\n",
    "Constraints:\n",
    "a. 1 <= s.length <= 10^5\n",
    "b. s consists of only lowercase English letters."
   ]
  },
  {
   "cell_type": "code",
   "execution_count": 24,
   "id": "c39fd383-6c1f-41ef-a6e6-827bcf8748d2",
   "metadata": {},
   "outputs": [],
   "source": [
    "def unique(s):\n",
    "    \n",
    "    l=0\n",
    "    r=1\n",
    "    \n",
    "    d={}\n",
    "  \n",
    "    for i in range(0,len(s)):\n",
    "        \n",
    "        if s[i] in d:\n",
    "            d[s[i]]+=1\n",
    "        else:\n",
    "            d[s[i]]=1\n",
    "    print(d)\n",
    "    for key in d:\n",
    "        if d[key]==1:\n",
    "            return s.find(key)\n",
    "    return -1\n",
    "            \n",
    "        \n",
    "        \n",
    "        \n",
    "            \n",
    "            \n",
    "                \n",
    "                \n",
    "                \n",
    "            "
   ]
  },
  {
   "cell_type": "code",
   "execution_count": 26,
   "id": "a19f70cd-99ee-4977-b7b9-a8e59ff16d9c",
   "metadata": {},
   "outputs": [
    {
     "name": "stdout",
     "output_type": "stream",
     "text": [
      "{'l': 2, 'o': 2, 'v': 1, 'e': 4, 't': 1, 'c': 1, 'd': 1}\n"
     ]
    },
    {
     "data": {
      "text/plain": [
       "2"
      ]
     },
     "execution_count": 26,
     "metadata": {},
     "output_type": "execute_result"
    }
   ],
   "source": [
    "unique('loveleetcode')"
   ]
  },
  {
   "cell_type": "code",
   "execution_count": null,
   "id": "f2cb6ecf-390c-46cd-8ade-48bac72bce16",
   "metadata": {},
   "outputs": [],
   "source": []
  }
 ],
 "metadata": {
  "kernelspec": {
   "display_name": "Python 3 (ipykernel)",
   "language": "python",
   "name": "python3"
  },
  "language_info": {
   "codemirror_mode": {
    "name": "ipython",
    "version": 3
   },
   "file_extension": ".py",
   "mimetype": "text/x-python",
   "name": "python",
   "nbconvert_exporter": "python",
   "pygments_lexer": "ipython3",
   "version": "3.10.6"
  }
 },
 "nbformat": 4,
 "nbformat_minor": 5
}
