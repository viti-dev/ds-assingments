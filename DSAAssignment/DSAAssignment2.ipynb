{
 "cells": [
  {
   "cell_type": "markdown",
   "id": "0ef40541-2824-4a99-988d-f998c0f70ce1",
   "metadata": {},
   "source": [
    "uestion 1\n",
    "Given an integer array nums of 2n integers, group these integers into n pairs (a1, b1), (a2, b2),\n",
    "..., (an, bn) such that the sum of min(ai, bi) for all i is maximized. Return the maximized sum.\n",
    "Example 1:\n",
    "Input: nums = [1,4,3,2]\n",
    "Output: 4\n",
    "Explanation: All possible pairings (ignoring the ordering of elements) are:\n",
    "1. (1, 4), (2, 3) -> min(1, 4) + min(2, 3) = 1 + 2 = 3\n",
    "2. (1, 3), (2, 4) -> min(1, 3) + min(2, 4) = 1 + 2 = 3\n",
    "3. (1, 2), (3, 4) -> min(1, 2) + min(3, 4) = 1 + 3 = 4\n",
    "So the maximum possible sum is 4"
   ]
  },
  {
   "cell_type": "code",
   "execution_count": 4,
   "id": "2b3c69fc-8c64-4e89-b32f-153f5752ec26",
   "metadata": {},
   "outputs": [],
   "source": [
    "class Solution:\n",
    "    def MaxPairSum(self,nums):\n",
    "        nums.sort()\n",
    "        max=0\n",
    "        for i in range (0,len(nums),2):\n",
    "            max+=nums[i]\n",
    "        return max"
   ]
  },
  {
   "cell_type": "code",
   "execution_count": 5,
   "id": "7d6625f8-8462-49b8-a240-071d1128997c",
   "metadata": {},
   "outputs": [],
   "source": [
    "s=Solution()"
   ]
  },
  {
   "cell_type": "code",
   "execution_count": 6,
   "id": "95a01ed8-424b-4472-a4f1-75acf85d29a5",
   "metadata": {},
   "outputs": [
    {
     "data": {
      "text/plain": [
       "4"
      ]
     },
     "execution_count": 6,
     "metadata": {},
     "output_type": "execute_result"
    }
   ],
   "source": [
    "s.MaxPairSum([1,4,3,2])"
   ]
  },
  {
   "cell_type": "markdown",
   "id": "eca24b93-7cc1-4e98-9055-d0f8f8628a21",
   "metadata": {},
   "source": [
    "Alice has n candies, where the ith candy is of type candyType[i]. Alice noticed that she started\n",
    "to gain weight, so she visited a doctor.\n",
    "The doctor advised Alice to only eat n / 2 of the candies she has (n is always even). Alice\n",
    "likes her candies very much, and she wants to eat the maximum number of different types of\n",
    "candies while still following the doctor's advice.\n",
    "Given the integer array candyType of length n, return the maximum number of different types\n",
    "of candies she can eat if she only eats n / 2 of them.\n",
    "Example 1:\n",
    "Input: candyType = [1,1,2,2,3,3]\n",
    "Output: 3\n",
    "Explanation: Alice can only eat 6 / 2 = 3 candies. Since there are only 3 types, she can eat one\n",
    "of each type."
   ]
  },
  {
   "cell_type": "code",
   "execution_count": 22,
   "id": "5ea26c69-5e5f-4797-a572-94d4a8287ad2",
   "metadata": {},
   "outputs": [],
   "source": [
    "class Candy:\n",
    "    def maxCandy(self,nums):\n",
    "        s=set(nums)\n",
    "        ls=len(s)\n",
    "        ln=len(nums)\n",
    "        if ln/2>=ls:\n",
    "            return ls\n",
    "        else:\n",
    "            return int(ln/2)\n",
    "        "
   ]
  },
  {
   "cell_type": "code",
   "execution_count": null,
   "id": "8a90c487-e8b6-4dbc-a516-436b59584dc4",
   "metadata": {},
   "outputs": [],
   "source": [
    "c=Candy()"
   ]
  },
  {
   "cell_type": "code",
   "execution_count": null,
   "id": "1050ab1e-3b7c-4fc3-9fd4-ab0f44c9f473",
   "metadata": {},
   "outputs": [],
   "source": [
    "c.maxCandy([1,2,3,4])"
   ]
  },
  {
   "cell_type": "markdown",
   "id": "b6861be1-aa55-4223-8cdc-172996346176",
   "metadata": {},
   "source": [
    "Question 3\n",
    "We define a harmonious array as an array where the difference between its maximum value\n",
    "and its minimum value is exactly 1.\n",
    "Given an integer array nums, return the length of its longest harmonious subsequence\n",
    "among all its possible subsequences.\n",
    "A subsequence of an array is a sequence that can be derived from the array by deleting some\n",
    "or no elements without changing the order of the remaining elements.\n",
    "Example 1:\n",
    "Input: nums = [1,3,2,2,5,2,3,7]\n",
    "Output: 5\n",
    "Explanation: The longest harmonious subsequence is [3,2,2,2,3].\n"
   ]
  },
  {
   "cell_type": "code",
   "execution_count": 31,
   "id": "ef5fffeb-bddd-4c4c-accd-d09cf68df764",
   "metadata": {},
   "outputs": [],
   "source": [
    "def findLHS(nums):\n",
    "    freq_count={}\n",
    "    max_length=0\n",
    "    \n",
    "    #Count the frequency of each number\n",
    "    for num in nums:\n",
    "        freq_count[num] =freq_count.get(num,0)+1\n",
    "        \n",
    "    #Iterate through dictionary and check for pair with difference 1\n",
    "    for num in freq_count:\n",
    "        if num+1 in freq_count:\n",
    "            length= freq_count[num]+freq_count[num+1]\n",
    "            max_length =max(max_length ,length)\n",
    "    return max_length"
   ]
  },
  {
   "cell_type": "code",
   "execution_count": 32,
   "id": "d07ee8a5-a9b7-4707-81e5-50d24a6509f9",
   "metadata": {},
   "outputs": [
    {
     "data": {
      "text/plain": [
       "5"
      ]
     },
     "execution_count": 32,
     "metadata": {},
     "output_type": "execute_result"
    }
   ],
   "source": [
    "findLHS( [1,3,2,2,5,2,3,7])"
   ]
  },
  {
   "cell_type": "markdown",
   "id": "8d02f4d6-0c86-4be8-98c5-a2796c8ad173",
   "metadata": {},
   "source": [
    "You have a long flowerbed in which some of the plots are planted, and some are not.\n",
    "However, flowers cannot be planted in adjacent plots.\n",
    "Given an integer array flowerbed containing 0's and 1's, where 0 means empty and 1 means\n",
    "not empty, and an integer n, return true if n new flowers can be planted in the flowerbed\n",
    "without violating the no-adjacent-flowers rule and false otherwise.\n",
    "Example 1:\n",
    "Input: flowerbed = [1,0,0,0,1], n = 1\n",
    "Output: true"
   ]
  },
  {
   "cell_type": "code",
   "execution_count": 4,
   "id": "a3c232c5-3779-4ef4-85c2-f0f051903ff9",
   "metadata": {},
   "outputs": [],
   "source": [
    "\n",
    "def Plant(nums,n):\n",
    "    i=0\n",
    "    count=0\n",
    "    while i<len(nums):\n",
    "        if nums[i]==0 and (i==0 or nums[i-1]==0) and (i==len(nums)-1 or nums[i+1]==0 ) :\n",
    "            count+=1\n",
    "            nums[i]=1\n",
    "            if count>=n:\n",
    "                return True\n",
    "        i+=1\n",
    "        \n",
    "    return False\n",
    "        \n",
    "    "
   ]
  },
  {
   "cell_type": "code",
   "execution_count": null,
   "id": "2500522e-175a-494f-88f3-bce5ed0488e5",
   "metadata": {},
   "outputs": [],
   "source": []
  },
  {
   "cell_type": "code",
   "execution_count": 3,
   "id": "d7078949-0860-4fd2-b828-1fee93934b15",
   "metadata": {},
   "outputs": [
    {
     "data": {
      "text/plain": [
       "True"
      ]
     },
     "execution_count": 3,
     "metadata": {},
     "output_type": "execute_result"
    }
   ],
   "source": [
    "Plant([1,0,0,0,1],1)"
   ]
  },
  {
   "cell_type": "markdown",
   "id": "170b1537-7229-43d2-8f45-756c42f6f197",
   "metadata": {},
   "source": [
    "Question 5\n",
    "Given an integer array nums, find three numbers whose product is maximum and return the\n",
    "maximum product.\n",
    "Example 1:\n",
    "Input: nums = [1,2,3]\n",
    "Output: 6\n"
   ]
  },
  {
   "cell_type": "code",
   "execution_count": 14,
   "id": "5a4485c9-b0ed-44e6-9db4-1a40abc8fb0d",
   "metadata": {},
   "outputs": [],
   "source": [
    "def maxProduct(nums):\n",
    "    nums.sort()\n",
    "    l=len(nums)-1\n",
    "    return max(nums[l]*nums[l-1]*nums[l-2] ,nums[0]*nums[1] *nums[l])"
   ]
  },
  {
   "cell_type": "code",
   "execution_count": 15,
   "id": "4b2166b8-1582-4d56-84ea-550504becef4",
   "metadata": {},
   "outputs": [],
   "source": [
    "nums = [-5,-4,1,2,3]"
   ]
  },
  {
   "cell_type": "code",
   "execution_count": 16,
   "id": "21ff692c-b600-46d6-8fb6-0efa7b34bfce",
   "metadata": {},
   "outputs": [
    {
     "data": {
      "text/plain": [
       "60"
      ]
     },
     "execution_count": 16,
     "metadata": {},
     "output_type": "execute_result"
    }
   ],
   "source": [
    "maxProduct(nums)"
   ]
  },
  {
   "cell_type": "markdown",
   "id": "c17adad1-f014-46e9-bcbb-8a6648a34646",
   "metadata": {},
   "source": [
    "\n",
    "Question 6\n",
    "Given an array of integers nums which is sorted in ascending order, and an integer target,\n",
    "write a function to search target in nums. If target exists, then return its index. Otherwise,\n",
    "return -1.\n",
    "You must write an algorithm with O(log n) runtime complexity.\n",
    "Input: nums = [-1,0,3,5,9,12], target = 9\n",
    "Output: 4\n",
    "Explanation: 9 exists in nums and its index is 4\n",
    "\n"
   ]
  },
  {
   "cell_type": "code",
   "execution_count": 18,
   "id": "61855991-2a5f-4a9b-b7bf-c8852812e7cf",
   "metadata": {},
   "outputs": [],
   "source": [
    "class Solution:\n",
    "    def findIndex(self,nums,target):\n",
    "        l=0\n",
    "        h=len(nums)-1\n",
    "        while l < h:\n",
    "            \n",
    "            m=(l+h)//2\n",
    "            \n",
    "            if nums[m]==target:\n",
    "                return m\n",
    "            elif nums[m] < target:\n",
    "                l=m+1\n",
    "            else:\n",
    "                h=m-1\n",
    "        \n",
    "        return -1\n",
    "        "
   ]
  },
  {
   "cell_type": "code",
   "execution_count": 19,
   "id": "58dfd06c-a9b6-4a4e-bebb-17de49b3278c",
   "metadata": {},
   "outputs": [],
   "source": [
    "s=Solution()"
   ]
  },
  {
   "cell_type": "code",
   "execution_count": 20,
   "id": "04ed6ee1-7231-46f8-abbf-9ed8b2a658f0",
   "metadata": {},
   "outputs": [
    {
     "data": {
      "text/plain": [
       "-1"
      ]
     },
     "execution_count": 20,
     "metadata": {},
     "output_type": "execute_result"
    }
   ],
   "source": [
    "s.findIndex( [-1,0,3,5,12],9)"
   ]
  },
  {
   "cell_type": "markdown",
   "id": "3779fc8f-0bd1-4c40-b77e-5025be2265ed",
   "metadata": {},
   "source": [
    "Question 7\n",
    "An array is monotonic if it is either monotone increasing or monotone decreasing.\n",
    "An array nums is monotone increasing if for all i <= j, nums[i] <= nums[j]. An array nums is\n",
    "monotone decreasing if for all i <= j, nums[i] >= nums[j].\n",
    "Given an integer array nums, return true if the given array is monotonic, or false otherwise.\n",
    "Example 1:\n",
    "Input: nums = [1,2,2,3]\n",
    "Output: true\n"
   ]
  },
  {
   "cell_type": "code",
   "execution_count": 23,
   "id": "49ff7a1f-8532-42f9-ad0b-2a013f30b1a1",
   "metadata": {},
   "outputs": [],
   "source": [
    "def monotonic(nums):\n",
    "    inc=dec=True\n",
    "    for i in range (len(nums)-1):\n",
    "        if nums[i]<=nums[i+1]:\n",
    "            dec=False\n",
    "        else:\n",
    "            inc=False\n",
    "    return inc or dec"
   ]
  },
  {
   "cell_type": "code",
   "execution_count": 28,
   "id": "d0655b82-d371-4d75-8007-425eec85c254",
   "metadata": {},
   "outputs": [
    {
     "data": {
      "text/plain": [
       "True"
      ]
     },
     "execution_count": 28,
     "metadata": {},
     "output_type": "execute_result"
    }
   ],
   "source": [
    "monotonic( [4,3,2,1])"
   ]
  },
  {
   "cell_type": "markdown",
   "id": "a3ea8f41-9bf6-4779-ac75-6000f10c2754",
   "metadata": {},
   "source": [
    "Question 8\n",
    "You are given an integer array nums and an integer k.\n",
    "In one operation, you can choose any index i where 0 <= i < nums.length and change nums[i]\n",
    "to nums[i] + x where x is an integer from the range [-k, k]. You can apply this operation at\n",
    "most once for each index i.\n",
    "The score of nums is the difference between the maximum and minimum elements in nums.\n",
    "Return the minimum score of nums after applying the mentioned operation at most once for\n",
    "each index in it.\n",
    "Example 1:\n",
    "Input: nums = [1], k = 0\n",
    "Output: 0\n",
    "Explanation: The score is max(nums) - min(nums) = 1 - 1 = 0.\n"
   ]
  },
  {
   "cell_type": "code",
   "execution_count": 29,
   "id": "35ef1ed5-3076-4925-ad0e-70291b82b4a0",
   "metadata": {},
   "outputs": [],
   "source": [
    "def minScore(nums, k):\n",
    "    minimum = maximum = nums[0]\n",
    "\n",
    "    for i in range(1, len(nums)):\n",
    "        minimum = min(minimum, nums[i] - k)\n",
    "        maximum = max(maximum, nums[i] + k)\n",
    "\n",
    "    return max(0, maximum - minimum)\n"
   ]
  },
  {
   "cell_type": "code",
   "execution_count": 30,
   "id": "0665d156-9fe5-4707-a333-f6e85ceb65ad",
   "metadata": {},
   "outputs": [
    {
     "name": "stdout",
     "output_type": "stream",
     "text": [
      "Minimum score: 0\n"
     ]
    }
   ],
   "source": [
    "nums = [1]\n",
    "k = 0\n",
    "result = minScore(nums, k)\n",
    "print(\"Minimum score:\", result)\n"
   ]
  },
  {
   "cell_type": "code",
   "execution_count": null,
   "id": "4269ebe9-eb9e-4d71-8009-15ffd764756d",
   "metadata": {},
   "outputs": [],
   "source": []
  }
 ],
 "metadata": {
  "kernelspec": {
   "display_name": "Python 3 (ipykernel)",
   "language": "python",
   "name": "python3"
  },
  "language_info": {
   "codemirror_mode": {
    "name": "ipython",
    "version": 3
   },
   "file_extension": ".py",
   "mimetype": "text/x-python",
   "name": "python",
   "nbconvert_exporter": "python",
   "pygments_lexer": "ipython3",
   "version": "3.10.6"
  }
 },
 "nbformat": 4,
 "nbformat_minor": 5
}
