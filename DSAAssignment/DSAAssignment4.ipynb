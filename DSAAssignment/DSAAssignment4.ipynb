{
 "cells": [
  {
   "cell_type": "markdown",
   "id": "b801457b-4c37-4159-887a-9ef9847052bc",
   "metadata": {},
   "source": [
    "<aside>\n",
    "💡 **Question 1**\n",
    "Given three integer arrays arr1, arr2 and arr3 **sorted** in **strictly increasing** order, return a sorted array of **only** the integers that appeared in **all** three arrays.\n",
    "\n",
    "**Example 1:**\n",
    "\n",
    "Input: arr1 = [1,2,3,4,5], arr2 = [1,2,5,7,9], arr3 = [1,3,4,5,8]\n",
    "\n",
    "Output: [1,5]\n",
    "\n",
    "**Explanation:** Only 1 and 5 appeared in the three arrays.\n",
    "\n",
    "</aside>"
   ]
  },
  {
   "cell_type": "code",
   "execution_count": 1,
   "id": "4a2276bc-0b4f-4026-b617-11807f97e805",
   "metadata": {},
   "outputs": [],
   "source": [
    "def common(arr1,arr2,arr3):\n",
    "    i=0 \n",
    "    j=0\n",
    "    k=0\n",
    "    res=[]\n",
    "    while i<len(arr1) and j<len(arr2) and k<len(arr3):\n",
    "        \n",
    "        if arr1[i]==arr2[j]==arr3[k]:\n",
    "            res.append(arr1[i])\n",
    "            i+=1\n",
    "            j+=1\n",
    "            k+=1\n",
    "        elif arr1[i] < arr2[j]:\n",
    "            i+=1\n",
    "        elif arr2[j] < arr3[k]:\n",
    "            j+=1\n",
    "        else:\n",
    "            k+=1\n",
    "    return res\n",
    "                \n",
    "            \n",
    "        \n",
    "    "
   ]
  },
  {
   "cell_type": "code",
   "execution_count": 2,
   "id": "39210d00-cdb4-4f1e-9673-f80d680e9b1b",
   "metadata": {},
   "outputs": [
    {
     "data": {
      "text/plain": [
       "[1, 5]"
      ]
     },
     "execution_count": 2,
     "metadata": {},
     "output_type": "execute_result"
    }
   ],
   "source": [
    "common( [1,2,3,4,5],[1,2,5,7,9],[1,3,4,5,8])"
   ]
  },
  {
   "cell_type": "markdown",
   "id": "4f623956-edd2-41e4-b5d8-d23afe71289e",
   "metadata": {},
   "source": [
    "Given two **0-indexed** integer arrays nums1 and nums2, return *a list* answer *of size* 2 *where:*\n",
    "\n",
    "- answer[0] *is a list of all **distinct** integers in* nums1 *which are **not** present in* nums2*.*\n",
    "- answer[1] *is a list of all **distinct** integers in* nums2 *which are **not** present in* nums1.\n",
    "\n",
    "**Note** that the integers in the lists may be returned in **any** order.\n",
    "\n",
    "**Example 1:**\n",
    "\n",
    "**Input:** nums1 = [1,2,3], nums2 = [2,4,6]\n",
    "\n",
    "**Output:** [[1,3],[4,6]]\n",
    "\n",
    "**Explanation:**\n",
    "\n",
    "For nums1, nums1[1] = 2 is present at index 0 of nums2, whereas nums1[0] = 1 and nums1[2] = 3 are not present in nums2. Therefore, answer[0] = [1,3].\n",
    "\n",
    "For nums2, nums2[0] = 2 is present at index 1 of nums1, whereas nums2[1] = 4 and nums2[2] = 6 are not present in nums2. Therefore, answer[1] = [4,6]."
   ]
  },
  {
   "cell_type": "code",
   "execution_count": 4,
   "id": "48133e8b-6290-4117-aff3-206bd3309b1d",
   "metadata": {},
   "outputs": [],
   "source": [
    "def unique(arr1,arr2):\n",
    "    i=0\n",
    "    res=[]\n",
    "   \n",
    "    for i in arr1:\n",
    "        if i in arr2:\n",
    "            arr1.remove(i)\n",
    "            arr2.remove(i)\n",
    "    res.append(arr1)\n",
    "    res.append(arr2)\n",
    "    return res\n",
    "        \n",
    "            \n",
    "               "
   ]
  },
  {
   "cell_type": "code",
   "execution_count": 5,
   "id": "41e27ed8-0d47-4472-8ffe-baa2576a5de7",
   "metadata": {},
   "outputs": [
    {
     "data": {
      "text/plain": [
       "[[1, 3], [4, 6]]"
      ]
     },
     "execution_count": 5,
     "metadata": {},
     "output_type": "execute_result"
    }
   ],
   "source": [
    "unique( [1,2,3],[2,4,6])"
   ]
  },
  {
   "cell_type": "markdown",
   "id": "90f4572e-bf6d-4697-936b-1c4181fd72f5",
   "metadata": {},
   "source": [
    "<aside>\n",
    "💡 **Question 3**\n",
    "Given a 2D integer array matrix, return *the **transpose** of* matrix.\n",
    "\n",
    "The **transpose** of a matrix is the matrix flipped over its main diagonal, switching the matrix's row and column indices.\n",
    "\n",
    "**Example 1:**\n",
    "\n",
    "Input: matrix = [[1,2,3],[4,5,6],[7,8,9]]\n",
    "\n",
    "Output: [[1,4,7],[2,5,8],[3,6,9]]\n",
    "\n",
    "</aside>"
   ]
  },
  {
   "cell_type": "code",
   "execution_count": 5,
   "id": "06b0fe5f-b775-42ed-9af4-426a7bf0e9f3",
   "metadata": {},
   "outputs": [],
   "source": [
    "def transpose(nums):\n",
    "    m=len(nums)\n",
    "    n=len(nums[0])\n",
    "    \n",
    "    transposed = [[0 for _ in range(m)] for _ in range(n)]\n",
    "   \n",
    "    for i in range (m):\n",
    "        for j in range (n):\n",
    "            transposed[j][i]=nums[i][j]\n",
    "        \n",
    "    return transposed\n",
    "    "
   ]
  },
  {
   "cell_type": "code",
   "execution_count": 6,
   "id": "de8ddbce-7687-466a-aced-725fdfe30613",
   "metadata": {},
   "outputs": [
    {
     "data": {
      "text/plain": [
       "[[1, 4, 7], [2, 5, 8], [3, 6, 9]]"
      ]
     },
     "execution_count": 6,
     "metadata": {},
     "output_type": "execute_result"
    }
   ],
   "source": [
    "transpose([[1,2,3],[4,5,6],[7,8,9]])"
   ]
  },
  {
   "cell_type": "markdown",
   "id": "6642fc19-377b-41bd-b48c-6de7dee7e44c",
   "metadata": {},
   "source": [
    "<aside>\n",
    "💡 **Question 4**\n",
    "Given an integer array nums of 2n integers, group these integers into n pairs (a1, b1), (a2, b2), ..., (an, bn) such that the sum of min(ai, bi) for all i is **maximized**. Return *the maximized sum*.\n",
    "\n",
    "**Example 1:**\n",
    "\n",
    "Input: nums = [1,4,3,2]\n",
    "\n",
    "Output: 4\n",
    "\n",
    "**Explanation:** All possible pairings (ignoring the ordering of elements) are:\n",
    "\n",
    "1. (1, 4), (2, 3) -> min(1, 4) + min(2, 3) = 1 + 2 = 3\n",
    "\n",
    "2. (1, 3), (2, 4) -> min(1, 3) + min(2, 4) = 1 + 2 = 3\n",
    "\n",
    "3. (1, 2), (3, 4) -> min(1, 2) + min(3, 4) = 1 + 3 = 4\n",
    "\n",
    "So the maximum possible sum is 4.\n",
    "\n",
    "</aside>"
   ]
  },
  {
   "cell_type": "code",
   "execution_count": 7,
   "id": "26e4a618-b1e8-4111-8824-b6cfbfb3206e",
   "metadata": {},
   "outputs": [],
   "source": [
    "def Max(nums):\n",
    "    nums.sort()\n",
    "    max=0\n",
    "    for i in range (0,len(nums),2):\n",
    "        max+=nums[i]\n",
    "    return max\n",
    "        "
   ]
  },
  {
   "cell_type": "code",
   "execution_count": 8,
   "id": "a421b568-cdbe-433e-ac09-3cd303c091da",
   "metadata": {},
   "outputs": [
    {
     "data": {
      "text/plain": [
       "4"
      ]
     },
     "execution_count": 8,
     "metadata": {},
     "output_type": "execute_result"
    }
   ],
   "source": [
    "Max([1,4,3,2])"
   ]
  },
  {
   "cell_type": "markdown",
   "id": "797b73c6-ada6-43f0-8a9a-70688b75d206",
   "metadata": {},
   "source": [
    "<aside>\n",
    "💡 **Question 5**\n",
    "You have n coins and you want to build a staircase with these coins. The staircase consists of k rows where the ith row has exactly i coins. The last row of the staircase **may be** incomplete.\n",
    "\n",
    "Given the integer n, return *the number of **complete rows** of the staircase you will build*.\n",
    "\n",
    "**Example 1:**\n",
    "\n",
    "</aside>"
   ]
  },
  {
   "cell_type": "code",
   "execution_count": 2,
   "id": "232911ce-c632-49b6-9ed3-9a2830034679",
   "metadata": {},
   "outputs": [],
   "source": [
    "def staircase(n):\n",
    "    count=0\n",
    "    remaining=n\n",
    "    while remaining >= count+1:\n",
    "        count+=1\n",
    "        remaining-=count\n",
    "    return count\n",
    "        "
   ]
  },
  {
   "cell_type": "code",
   "execution_count": 3,
   "id": "8cba2c94-b030-471b-9169-d403353a143d",
   "metadata": {},
   "outputs": [
    {
     "data": {
      "text/plain": [
       "2"
      ]
     },
     "execution_count": 3,
     "metadata": {},
     "output_type": "execute_result"
    }
   ],
   "source": [
    "staircase(5)"
   ]
  },
  {
   "cell_type": "markdown",
   "id": "0eb508f0-4bd3-4e50-9614-8de7b81b3883",
   "metadata": {},
   "source": [
    "<aside>\n",
    "💡 **Question 6**\n",
    "Given an integer array nums sorted in **non-decreasing** order, return *an array of **the squares of each number** sorted in non-decreasing order*.\n",
    "\n",
    "**Example 1:**\n",
    "\n",
    "Input: nums = [-4,-1,0,3,10]\n",
    "\n",
    "Output: [0,1,9,16,100]\n",
    "\n",
    "**Explanation:** After squaring, the array becomes [16,1,0,9,100].\n",
    "After sorting, it becomes [0,1,9,16,100]\n",
    "\n",
    "</aside>"
   ]
  },
  {
   "cell_type": "code",
   "execution_count": 7,
   "id": "4442250b-8694-4f20-b6a8-0eda8613b93f",
   "metadata": {},
   "outputs": [],
   "source": [
    "def squares(nums):\n",
    "    n=len(nums)\n",
    "    res=[0]*n\n",
    "    l=0\n",
    "    r=n-1\n",
    "    index=n-1\n",
    "    while l<=r:\n",
    "        if abs(nums[l])>abs(nums[r]):\n",
    "            res[index]=nums[l]*nums[l]\n",
    "            l+=1\n",
    "        else:\n",
    "            res[index]=nums[r]*nums[r]\n",
    "            r-=1\n",
    "        index-=1\n",
    "    return res"
   ]
  },
  {
   "cell_type": "code",
   "execution_count": 8,
   "id": "cc55d231-dd4a-4741-898e-6f6ae002adb2",
   "metadata": {},
   "outputs": [],
   "source": [
    "nums = [-4, -1, 0, 3, 10]"
   ]
  },
  {
   "cell_type": "code",
   "execution_count": 9,
   "id": "63cf50a2-eace-4697-9853-659a63eb1791",
   "metadata": {},
   "outputs": [
    {
     "data": {
      "text/plain": [
       "[0, 1, 9, 16, 100]"
      ]
     },
     "execution_count": 9,
     "metadata": {},
     "output_type": "execute_result"
    }
   ],
   "source": [
    "squares(nums)"
   ]
  },
  {
   "cell_type": "markdown",
   "id": "c069ae42-d5a4-458a-bb03-7a5cfd954bb7",
   "metadata": {},
   "source": [
    "<aside>\n",
    "💡 You are given an m x n matrix M initialized with all 0's and an array of operations ops, where ops[i] = [ai, bi] means M[x][y] should be incremented by one for all 0 <= x < ai and 0 <= y < bi.\n",
    "\n",
    "Count and return *the number of maximum integers in the matrix after performing all the operations*\n",
    "\n",
    "</aside>"
   ]
  },
  {
   "cell_type": "code",
   "execution_count": 10,
   "id": "15895d88-d5e0-4cf2-a4f6-c53b77b9caa2",
   "metadata": {},
   "outputs": [],
   "source": [
    "def maxCount(m,n,ops):\n",
    "    min_row=m\n",
    "    min_col=n\n",
    "    \n",
    "    for i in ops:\n",
    "        min_row = min(min_row,i[0])\n",
    "        min_col=min(min_col , i[1])\n",
    "    return min_row*min_col"
   ]
  },
  {
   "cell_type": "code",
   "execution_count": 11,
   "id": "1b541cf8-2535-4e0a-9530-e17e7df2ec59",
   "metadata": {},
   "outputs": [
    {
     "data": {
      "text/plain": [
       "4"
      ]
     },
     "execution_count": 11,
     "metadata": {},
     "output_type": "execute_result"
    }
   ],
   "source": [
    "maxCount(3,3,[[2, 2], [3, 3]])"
   ]
  },
  {
   "cell_type": "markdown",
   "id": "12cd48a7-9a7d-496e-8356-3d33c22ed660",
   "metadata": {},
   "source": [
    "<aside>\n",
    "💡 **Question 8**\n",
    "\n",
    "Given the array nums consisting of 2n elements in the form [x1,x2,...,xn,y1,y2,...,yn].\n",
    "\n",
    "*Return the array in the form* [x1,y1,x2,y2,...,xn,yn].\n",
    "\n",
    "**Example 1:**\n",
    "\n",
    "**Input:** nums = [2,5,1,3,4,7], n = 3\n",
    "\n",
    "**Output:** [2,3,5,4,1,7]\n",
    "\n",
    "**Explanation:** Since x1=2, x2=5, x3=1, y1=3, y2=4, y3=7 then the answer is [2,3,5,4,1,7].\n",
    "\n",
    "</aside>"
   ]
  },
  {
   "cell_type": "code",
   "execution_count": 22,
   "id": "ace7f728-20ac-4cbf-9235-240fcb6bf3ee",
   "metadata": {},
   "outputs": [],
   "source": [
    "def seq(nums):\n",
    "    n=len(nums)\n",
    "    mid=n//2\n",
    "    l=0\n",
    "    res=[]\n",
    "    while l<=n//2 and (mid+1)<=len(nums):\n",
    "        res.append(nums[l])\n",
    "        res.append(nums[mid])\n",
    "        l+=1\n",
    "        mid+=1\n",
    "    return res\n",
    "        \n",
    "        "
   ]
  },
  {
   "cell_type": "code",
   "execution_count": 23,
   "id": "debcebd4-e2f3-45d8-addc-e47e5c0267c7",
   "metadata": {},
   "outputs": [
    {
     "data": {
      "text/plain": [
       "[2, 3, 5, 4, 1, 7]"
      ]
     },
     "execution_count": 23,
     "metadata": {},
     "output_type": "execute_result"
    }
   ],
   "source": [
    "seq([2,5,1,3,4,7])"
   ]
  },
  {
   "cell_type": "code",
   "execution_count": null,
   "id": "59a7ece2-4d8a-4a5c-9d58-1f58eeaeaf5e",
   "metadata": {},
   "outputs": [],
   "source": []
  }
 ],
 "metadata": {
  "kernelspec": {
   "display_name": "Python 3 (ipykernel)",
   "language": "python",
   "name": "python3"
  },
  "language_info": {
   "codemirror_mode": {
    "name": "ipython",
    "version": 3
   },
   "file_extension": ".py",
   "mimetype": "text/x-python",
   "name": "python",
   "nbconvert_exporter": "python",
   "pygments_lexer": "ipython3",
   "version": "3.10.6"
  }
 },
 "nbformat": 4,
 "nbformat_minor": 5
}
